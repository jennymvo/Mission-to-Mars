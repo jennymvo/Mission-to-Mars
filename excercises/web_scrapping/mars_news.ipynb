{
 "cells": [
  {
   "cell_type": "code",
   "execution_count": 1,
   "metadata": {},
   "outputs": [],
   "source": [
    "# Import Splinter and BeautifulSoup\n",
    "from splinter import Browser\n",
    "from bs4 import BeautifulSoup as soup\n",
    "from webdriver_manager.chrome import ChromeDriverManager"
   ]
  },
  {
   "cell_type": "code",
   "execution_count": 2,
   "metadata": {},
   "outputs": [],
   "source": [
    "# Set the executable path \n",
    "executable_path = {'executable_path': ChromeDriverManager().install()}\n",
    "browser = Browser('chrome', **executable_path, headless=False)"
   ]
  },
  {
   "cell_type": "code",
   "execution_count": 3,
   "metadata": {},
   "outputs": [
    {
     "data": {
      "text/plain": [
       "'\\nRecall that a CSS class attribute gets represented with a period (.). \\nAnd, an id attribute gets represented with a hashtag (#). \\nSo, a div element that has a class attribute of list_text gets notated as div.list_text. \\nLikewise, a button element that has an id attribute of more gets notated as button#more. \\nAnd, remember that an id attribute value must be unique on a webpage.\\n'"
      ]
     },
     "execution_count": 3,
     "metadata": {},
     "output_type": "execute_result"
    }
   ],
   "source": [
    "# Visit the Mars NASA news site\n",
    "url = 'https://redplanetscience.com'\n",
    "browser.visit(url)\n",
    "\n",
    "# Optional delay for loading the page\n",
    "browser.is_element_present_by_css('div.list_text', wait_time=1) # function searches for elements with a specific combination of tag (div) and attribute (list_text)\n",
    "\n",
    "\"\"\"\n",
    "Recall that a CSS class attribute gets represented with a period (.). \n",
    "And, an id attribute gets represented with a hashtag (#). \n",
    "So, a div element that has a class attribute of list_text gets notated as div.list_text. \n",
    "Likewise, a button element that has an id attribute of more gets notated as button#more. \n",
    "And, remember that an id attribute value must be unique on a webpage.\n",
    "\"\"\""
   ]
  },
  {
   "cell_type": "code",
   "execution_count": 4,
   "metadata": {},
   "outputs": [
    {
     "data": {
      "text/plain": [
       "\"This result is the parent element of each article, which means that it holds all the other elements within it. \\nLater, we'll reference this when we want to filter our search results further.\""
      ]
     },
     "execution_count": 4,
     "metadata": {},
     "output_type": "execute_result"
    }
   ],
   "source": [
    "# Set up html parser\n",
    "html = browser.html\n",
    "news_soup = soup(html, 'html.parser')\n",
    "slide_elem = news_soup.select_one('div.list_text') # Search for a <div /> tag that has a class attribute of list_text, and we assign the result to the slide_elem variable.\n",
    "\n",
    "'''This result is the parent element of each article, which means that it holds all the other elements within it. \n",
    "Later, we'll reference this when we want to filter our search results further.'''"
   ]
  },
  {
   "cell_type": "code",
   "execution_count": 5,
   "metadata": {},
   "outputs": [
    {
     "name": "stdout",
     "output_type": "stream",
     "text": [
      "<div class=\"content_title\">Virginia Middle School Student Earns Honor of Naming NASA's Next Mars Rover</div>\n"
     ]
    }
   ],
   "source": [
    "# Scrape the first article title and it's summary text\n",
    "\n",
    "title_elem = slide_elem.find('div', class_='content_title') # Find the content title from the slide_elem element \n",
    "print(title_elem)"
   ]
  },
  {
   "cell_type": "code",
   "execution_count": 6,
   "metadata": {},
   "outputs": [
    {
     "name": "stdout",
     "output_type": "stream",
     "text": [
      "Virginia Middle School Student Earns Honor of Naming NASA's Next Mars Rover\n"
     ]
    }
   ],
   "source": [
    "# Get just the title text of the first hit of articles \n",
    "\n",
    "title = title_elem.get_text()\n",
    "print(title)\n",
    "\n",
    "'''Returns the most recently published title from the website'''"
   ]
  },
  {
   "cell_type": "markdown",
   "metadata": {},
   "source": [
    "html code for article\n",
    "\n",
    "<div class=\"col-md-8\">\n",
    "\t\t\t\t\t\t\t\t\t\t  \t<div class=\"list_text\">\n",
    "\t\t\t\t\t\t\t\t\t\t\t <div class=\"list_date\">November 14, 2022</div>\n",
    "\t\t\t\t\t\t\t\t\t\t\t <div class=\"content_title\">Virginia Middle School Student Earns Honor of Naming NASA's Next Mars Rover</div>\n",
    "\t\t\t\t\t\t\t\t\t\t\t <div class=\"article_teaser_body\">NASA chose a seventh-grader from Virginia as winner of the agency's \"Name the Rover\" essay contest. Alexander Mather's entry for \"Perseverance\" was voted tops among 28,000 entries. </div>\n",
    "\t\t\t\t\t\t\t\t\t\t\t </div>\n",
    "\t\t\t\t\t\t\t\t\t\t  </div>"
   ]
  },
  {
   "cell_type": "code",
   "execution_count": 7,
   "metadata": {},
   "outputs": [
    {
     "data": {
      "text/plain": [
       "'NASA chose a seventh-grader from Virginia as winner of the agency\\'s \"Name the Rover\" essay contest. Alexander Mather\\'s entry for \"Perseverance\" was voted tops among 28,000 entries. '"
      ]
     },
     "execution_count": 7,
     "metadata": {},
     "output_type": "execute_result"
    }
   ],
   "source": [
    "# Use the parent element to find the paragraph text of the first/recent article \n",
    "news_p = slide_elem.find('div', class_='article_teaser_body').text\n",
    "news_p"
   ]
  },
  {
   "cell_type": "code",
   "execution_count": 8,
   "metadata": {},
   "outputs": [],
   "source": [
    "browser.quit()"
   ]
  }
 ],
 "metadata": {
  "kernelspec": {
   "display_name": "Python 3.10.4 ('bootcamp')",
   "language": "python",
   "name": "python3"
  },
  "language_info": {
   "codemirror_mode": {
    "name": "ipython",
    "version": 3
   },
   "file_extension": ".py",
   "mimetype": "text/x-python",
   "name": "python",
   "nbconvert_exporter": "python",
   "pygments_lexer": "ipython3",
   "version": "3.10.4"
  },
  "orig_nbformat": 4,
  "vscode": {
   "interpreter": {
    "hash": "feaa725b70d99fd8b5fd94e44413987ac58147e3b9eacd81281fd814ac40f096"
   }
  }
 },
 "nbformat": 4,
 "nbformat_minor": 2
}
