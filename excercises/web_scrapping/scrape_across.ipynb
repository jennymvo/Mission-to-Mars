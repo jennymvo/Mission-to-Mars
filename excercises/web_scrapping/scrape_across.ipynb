{
 "cells": [
  {
   "cell_type": "code",
   "execution_count": 1,
   "metadata": {},
   "outputs": [],
   "source": [
    "# Import dependencies\n",
    "from splinter import Browser\n",
    "from bs4 import BeautifulSoup as soup\n",
    "from webdriver_manager.chrome import ChromeDriverManager\n",
    "\n",
    "# initate splinter\n",
    "executable_path = {'executable_path': ChromeDriverManager().install()}\n",
    "browser = Browser('chrome', **executable_path, headless=False)\n",
    "\n",
    "# set url\n",
    "url = 'http://quotes.toscrape.com/'\n",
    "\n",
    "# 1. visit the url with splinter\n",
    "browser.visit(url)\n",
    "\n",
    "# 2. The html content of the page gets assigned to the html variable.  \n",
    "html = browser.html\n",
    "\n",
    "# 3. Beautiful Soup parses the html content\n",
    "quote_soup = soup(html, 'html.parser')"
   ]
  },
  {
   "cell_type": "markdown",
   "metadata": {},
   "source": [
    "Identify the class attribute of each quote on the page.\n",
    "Each quote exists inside a span element that belongs to the text class.\n",
    " \n",
    "<div class=\"col-md-8\">\n",
    "    <div class=\"quote\" itemscope=\"\" itemtype=\"http://schema.org/CreativeWork\">\n",
    "        <span class=\"text\" itemprop=\"text\">“The world as we have created it is a process of our thinking. It cannot be changed without changing our thinking.”</span>\n",
    "        <span>by <small class=\"author\" itemprop=\"author\">Albert Einstein</small>\n",
    "        <a href=\"/author/Albert-Einstein\">(about)</a>\n",
    "        </span>\n",
    "        <div class=\"tags\">\n",
    "            Tags:\n",
    "            <meta class=\"keywords\" itemprop=\"keywords\" content=\"change,deep-thoughts,thinking,world\"> \n",
    "            <a class=\"tag\" href=\"/tag/change/page/1/\">change</a>"
   ]
  },
  {
   "cell_type": "code",
   "execution_count": 3,
   "metadata": {},
   "outputs": [
    {
     "name": "stdout",
     "output_type": "stream",
     "text": [
      "“The world as we have created it is a process of our thinking. It cannot be changed without changing our thinking.”\n",
      "“It is our choices, Harry, that show what we truly are, far more than our abilities.”\n",
      "“There are only two ways to live your life. One is as though nothing is a miracle. The other is as though everything is a miracle.”\n",
      "“The person, be it gentleman or lady, who has not pleasure in a good novel, must be intolerably stupid.”\n",
      "“Imperfection is beauty, madness is genius and it's better to be absolutely ridiculous than absolutely boring.”\n",
      "“Try not to become a man of success. Rather become a man of value.”\n",
      "“It is better to be hated for what you are than to be loved for what you are not.”\n",
      "“I have not failed. I've just found 10,000 ways that won't work.”\n",
      "“A woman is like a tea bag; you never know how strong it is until it's in hot water.”\n",
      "“A day without sunshine is like, you know, night.”\n"
     ]
    }
   ],
   "source": [
    "# Scrape all the quotes on the page using the find_all method to extract all the span elements that have the text class \n",
    "\n",
    "quotes = quote_soup.find_all('span', class_='text')\n",
    "\n",
    "for quote in quotes:\n",
    "    print(quote.text)\n",
    "\n",
    "\"\"\"\n",
    "In the preceding code, the find_all method returns a list of all the span elements that have the text class. \n",
    "Each item in the list resembles <span class=\"text\" itemprop=\"text\">\"QUOTE\"</span>. \n",
    "Because we're interested in only the quote portion, we use its text attribute in a for loop.\n",
    "\"\"\""
   ]
  },
  {
   "cell_type": "markdown",
   "metadata": {},
   "source": [
    "Automate the clicking of the next button to go to the next page. \n",
    "Identify the class or id attribute of the button. the html code is shown below:\n",
    "\n",
    "<li class=\"next\">\n",
    "  <a href=\"/page/2/\">      \n",
    "      \"Next \"\n",
    "      <span = aria-hidden=\"true\">+</span>\n",
    "  </a>\n",
    "</li>"
   ]
  },
  {
   "cell_type": "code",
   "execution_count": 5,
   "metadata": {},
   "outputs": [],
   "source": [
    "# Use Splinter to find the \"next\" button according to text\n",
    "browser.links.find_by_partial_text('Next').click()"
   ]
  }
 ],
 "metadata": {
  "kernelspec": {
   "display_name": "Python 3.10.4 ('bootcamp')",
   "language": "python",
   "name": "python3"
  },
  "language_info": {
   "codemirror_mode": {
    "name": "ipython",
    "version": 3
   },
   "file_extension": ".py",
   "mimetype": "text/x-python",
   "name": "python",
   "nbconvert_exporter": "python",
   "pygments_lexer": "ipython3",
   "version": "3.10.4"
  },
  "orig_nbformat": 4,
  "vscode": {
   "interpreter": {
    "hash": "feaa725b70d99fd8b5fd94e44413987ac58147e3b9eacd81281fd814ac40f096"
   }
  }
 },
 "nbformat": 4,
 "nbformat_minor": 2
}
