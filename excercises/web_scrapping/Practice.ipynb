{
 "cells": [
  {
   "cell_type": "code",
   "execution_count": 1,
   "metadata": {},
   "outputs": [],
   "source": [
    "# Import dependencies\n",
    "from splinter import Browser\n",
    "from bs4 import BeautifulSoup as soup\n",
    "from webdriver_manager.chrome import ChromeDriverManager"
   ]
  },
  {
   "cell_type": "code",
   "execution_count": 2,
   "metadata": {},
   "outputs": [
    {
     "name": "stderr",
     "output_type": "stream",
     "text": [
      "[WDM] - Downloading: 100%|██████████| 6.46M/6.46M [00:00<00:00, 9.97MB/s]\n"
     ]
    }
   ],
   "source": [
    "# Set up Splinter\n",
    "# Set up the executable path and initialize a browser\n",
    "\n",
    "executable_path = {'executable_path': ChromeDriverManager().install()} # indicates to use chrome as the browser. Executable path Installs ChromeDriver instead of manually downloading it. \n",
    "browser = Browser('chrome', **executable_path, headless=False) # all the brower's actions will display in a chrome window for observation. "
   ]
  },
  {
   "cell_type": "code",
   "execution_count": 3,
   "metadata": {},
   "outputs": [],
   "source": [
    "# Visit the Quotes to Scrape site\n",
    "url = 'http://quotes.toscrape.com/' \n",
    "browser.visit(url) # tells splinter to visit the url variable."
   ]
  },
  {
   "cell_type": "code",
   "execution_count": 4,
   "metadata": {},
   "outputs": [],
   "source": [
    "# Parse the HTML\n",
    "html = browser.html \n",
    "html_soup = soup(html, 'html.parser') #beautiful soup has examined the components on the page and can access them. "
   ]
  },
  {
   "cell_type": "code",
   "execution_count": 5,
   "metadata": {},
   "outputs": [
    {
     "name": "stdout",
     "output_type": "stream",
     "text": [
      "<h2>Top Ten tags</h2>\n",
      "Top Ten tags\n"
     ]
    }
   ],
   "source": [
    "# Scrape the Title\n",
    "h2 = html_soup.find('h2') # use html_soup object and use the find method to search for the h2 tag\n",
    "title = h2.text # extracts the text from the h2 tag\n",
    "print(h2)\n",
    "print(title)"
   ]
  },
  {
   "cell_type": "markdown",
   "metadata": {},
   "source": [
    "The col-md-4 class is a Bootstrap feature. Bootstrap is an HTML and CSS library that simplifies building websites. It uses a grid system to divide a page into 12 columns of equal width. In this case, col-md-4 means that the box containing “Top Ten tags” takes up four columns. The main quotes section takes up the remaining eight columns. Websites that use Bootstrap commonly use this class, but many others exist.\n",
    "\n",
    "The other class, tags-box, seems specific to this website, but we want to confirm that. To do so, use the DevTools Find box to search for it.\n",
    "Notice that searching for “tags-box” returns only one result: our <div class=\"col-md-4 tags-box\"> tag. This means that tags-box is unique in the HTML code, so we can use it to find specific data.\n",
    "\n",
    "Notice that we get the <h2>Top Ten tags</h2> line followed by a list of <span /> tags, each with a class of tag-item. Expand some of the span elements to review their contents. If you observe <a /> tags that contain the names of the Top Ten tags, you're in the right place.\n",
    "\n",
    "Because the list that displays on the webpage contains 10 items, let's use the DevTools search function to verify the list item count. This is one more way to check that we’ll scrape the correct data. To do so, search for “tag-item” (without the quotation marks), and then note the number of returned results. This number should indeed be 11.\n"
   ]
  },
  {
   "cell_type": "code",
   "execution_count": null,
   "metadata": {},
   "outputs": [],
   "source": [
    "# snip of HTML for scraping \n",
    "\n",
    "\"\"\"\n",
    "<div class=\"col-md-4 tags-box\">\n",
    "        \n",
    "            <h2>Top Ten tags</h2>\n",
    "            \n",
    "            <span class=\"tag-item\">\n",
    "            <a class=\"tag\" style=\"font-size: 28px\" href=\"/tag/love/\">love</a>\n",
    "            </span>\n",
    "            \n",
    "            <span class=\"tag-item\">\n",
    "            <a class=\"tag\" style=\"font-size: 26px\" href=\"/tag/inspirational/\">inspirational</a>\n",
    "            </span>\n",
    "            \n",
    "            <span class=\"tag-item\">\n",
    "            <a class=\"tag\" style=\"font-size: 26px\" href=\"/tag/life/\">life</a>\n",
    "            </span>\n",
    "            \n",
    "            <span class=\"tag-item\">\n",
    "            <a class=\"tag\" style=\"font-size: 24px\" href=\"/tag/humor/\">humor</a>\n",
    "            </span>\n",
    "\"\"\""
   ]
  },
  {
   "cell_type": "code",
   "execution_count": 6,
   "metadata": {},
   "outputs": [
    {
     "name": "stdout",
     "output_type": "stream",
     "text": [
      "love\n",
      "inspirational\n",
      "life\n",
      "humor\n",
      "books\n",
      "reading\n",
      "friendship\n",
      "friends\n",
      "truth\n",
      "simile\n"
     ]
    }
   ],
   "source": [
    "# Scrape the top ten tags\n",
    "tag_box = html_soup.find('div', class_='tags-box') # assigns the results of a search to a new variable named tag_box. The search is for <div /> tags that have class tags-box\n",
    "\n",
    "# tag_box\n",
    "tags = tag_box.find_all('a', class_='tag') # Uses find_all to search within tag_box and capture all results. We searched through the parsed results that are stored in the tag_box to find anchor a elements that belong to tag class\n",
    "\n",
    "for tag in tags:\n",
    "    word = tag.text\n",
    "    print(word)"
   ]
  },
  {
   "cell_type": "code",
   "execution_count": 7,
   "metadata": {},
   "outputs": [],
   "source": [
    "# End automated browser session\n",
    "browser.quit()"
   ]
  }
 ],
 "metadata": {
  "kernelspec": {
   "display_name": "Python 3.10.4 ('bootcamp')",
   "language": "python",
   "name": "python3"
  },
  "language_info": {
   "codemirror_mode": {
    "name": "ipython",
    "version": 3
   },
   "file_extension": ".py",
   "mimetype": "text/x-python",
   "name": "python",
   "nbconvert_exporter": "python",
   "pygments_lexer": "ipython3",
   "version": "3.10.4"
  },
  "orig_nbformat": 4,
  "vscode": {
   "interpreter": {
    "hash": "feaa725b70d99fd8b5fd94e44413987ac58147e3b9eacd81281fd814ac40f096"
   }
  }
 },
 "nbformat": 4,
 "nbformat_minor": 2
}
