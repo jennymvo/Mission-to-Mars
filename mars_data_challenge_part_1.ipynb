{
 "cells": [
  {
   "cell_type": "markdown",
   "metadata": {},
   "source": [
    "# Deliverable 1:\n",
    "Scrape Titles and Preview Text from Mars News "
   ]
  },
  {
   "cell_type": "code",
   "execution_count": 26,
   "metadata": {},
   "outputs": [
    {
     "name": "stderr",
     "output_type": "stream",
     "text": [
      "[WDM] - Downloading: 100%|██████████| 6.46M/6.46M [00:00<00:00, 8.79MB/s]\n"
     ]
    }
   ],
   "source": [
    "'''Scrape the Mars News website by using Splinter and Beautiful Soup.'''\n",
    "\n",
    "# Import Splinter and BeautifulSoup\n",
    "from splinter import Browser\n",
    "from bs4 import BeautifulSoup as soup\n",
    "from webdriver_manager.chrome import ChromeDriverManager\n",
    "\n",
    "# Set the executable path \n",
    "executable_path = {'executable_path': ChromeDriverManager().install()}\n",
    "browser = Browser('chrome', **executable_path, headless=False)\n",
    "\n",
    "# Visit the Mars News site\n",
    "url = 'https://redplanetscience.com'\n",
    "browser.visit(url)\n",
    "\n",
    "html = browser.html\n",
    "html_soup = soup(html, 'html.parser')"
   ]
  },
  {
   "cell_type": "code",
   "execution_count": 30,
   "metadata": {},
   "outputs": [
    {
     "name": "stdout",
     "output_type": "stream",
     "text": [
      "[{'title': 'Independent Review Indicates NASA Prepared for Mars Sample Return Campaign', 'summary': 'NASA released an independent review report Tuesday indicating the agency is well positioned for its Mars Sample Return campaign to bring pristine samples from Mars to Earth for scientific study.'}, {'title': 'MAVEN Maps Electric Currents around Mars that are Fundamental to Atmospheric Loss', 'summary': 'Five years after NASA’s MAVEN spacecraft entered into orbit around Mars, data from the mission has led to the creation of a map of electric current systems in the Martian atmosphere.'}, {'title': 'NASA to Broadcast Mars 2020 Perseverance Launch, Prelaunch Activities', 'summary': 'Starting July 27, news activities will cover everything from mission engineering and science to returning samples from Mars to, of course, the launch itself.'}, {'title': \"NASA's MAVEN Explores Mars to Understand Radio Interference at Earth\", 'summary': 'NASA’s MAVEN spacecraft has discovered “layers” and “rifts” in the electrically charged part of the upper atmosphere of Mars.'}, {'title': 'Two of a Space Kind: Apollo 12 and Mars 2020', 'summary': 'Apollo 12 and the upcoming Mars 2020 mission may be separated by half a century, but they share several goals unique in the annals of space exploration.'}, {'title': 'New Selfie Shows Curiosity, the Mars Chemist', 'summary': 'The NASA rover performed a special chemistry experiment at the location captured in its newest self-portrait.'}, {'title': 'NASA to Reveal Name of Its Next Mars Rover', 'summary': \"After a months-long contest among students to name NASA's newest Mars rover, the agency will reveal the winning name — and the winning student — this Thursday. \"}, {'title': \"All About the Laser (and Microphone) Atop Mars 2020, NASA's Next Rover\", 'summary': 'SuperCam is a rock-vaporizing instrument that will help scientists hunt for Mars fossils.'}, {'title': \"NASA's Mars 2020 Rover Tests Descent-Stage Separation\", 'summary': \"A crane lifts the rocket-powered descent stage away from NASA's Mars 2020 rover after technicians tested the pyrotechnic charges that separate the two spacecraft.\"}, {'title': \"NASA's Mars Perseverance Rover Passes Flight Readiness Review\", 'summary': \"\\u200bThe agency's Mars 2020 mission has one more big prelaunch review – the Launch Readiness Review, on July 27.\"}, {'title': \"NASA's InSight Flexes Its Arm While Its 'Mole' Hits Pause\", 'summary': \"Now that the lander's robotic arm has helped the mole get underground, it will resume science activities that have been on hold.\"}, {'title': \"NASA's Perseverance Rover Bringing 3D-Printed Metal Parts to Mars\", 'summary': \"For hobbyists and makers, 3D printing expands creative possibilities; for specialized engineers, it's also key to next-generation spacecraft design.\"}, {'title': \"NASA's Perseverance Rover Goes Through Trials by Fire, Ice, Light and Sound\", 'summary': \"The agency's new Mars rover is put through a series of tests in vacuum chambers, acoustic chambers and more to get ready for the Red Planet.\"}, {'title': \"The Detective Aboard NASA's Perseverance Rover\", 'summary': 'An instrument called SHERLOC will, with the help of its partner WATSON, hunt for signs of ancient life by detecting organic molecules and minerals.'}, {'title': \"5 Hidden Gems Are Riding Aboard NASA's Perseverance Rover\", 'summary': \"The symbols, mottos, and small objects added to the agency's newest Mars rover serve a variety of purposes, from functional to decorative.\"}]\n"
     ]
    },
    {
     "data": {
      "text/plain": [
       "'\\n# Create dictionary with the title as key and summary as value from the lists\\n\\nzipLists = zip(title_list, summary_list)\\narticleDict = dict(zipLists)\\n\\n#articleDictItems = articleDict.items()\\n\\n# Split the dictionary to list of dictionaries \\nlistDict = [{k: v} for k, v in articleDict.items()]\\n\\nnew_dict = {}\\nfor key, value in articleDict.items():\\n    new_dict[value] = key\\n\\nnew_dict\\n'"
      ]
     },
     "execution_count": 30,
     "metadata": {},
     "output_type": "execute_result"
    }
   ],
   "source": [
    "results = html_soup.find_all(class_ = 'image_and_description_container')\n",
    "\n",
    "# Set empty lists to hold data\n",
    "title_list = []\n",
    "summary_list = []\n",
    "\n",
    "for result in results:\n",
    "    title = result.find_all('div', class_='content_title')\n",
    "    summary = result.find_all('div', class_='article_teaser_body')\n",
    "    if title:\n",
    "        for span in title:\n",
    "            title_list.append(span.text)\n",
    "    if summary:\n",
    "        for span in summary:\n",
    "            summary_list.append(span.text)\n",
    "\n",
    "listDictionaries = []\n",
    "\n",
    "for title, summary in zip(title_list, summary_list):\n",
    "    listDictionaries.append({'title': title, 'summary': summary})\n",
    "\n",
    "print(listDictionaries)\n"
   ]
  },
  {
   "cell_type": "code",
   "execution_count": 34,
   "metadata": {},
   "outputs": [],
   "source": [
    "#browser.quit()"
   ]
  }
 ],
 "metadata": {
  "kernelspec": {
   "display_name": "Python 3.10.4 ('bootcamp')",
   "language": "python",
   "name": "python3"
  },
  "language_info": {
   "codemirror_mode": {
    "name": "ipython",
    "version": 3
   },
   "file_extension": ".py",
   "mimetype": "text/x-python",
   "name": "python",
   "nbconvert_exporter": "python",
   "pygments_lexer": "ipython3",
   "version": "3.10.4"
  },
  "orig_nbformat": 4,
  "vscode": {
   "interpreter": {
    "hash": "feaa725b70d99fd8b5fd94e44413987ac58147e3b9eacd81281fd814ac40f096"
   }
  }
 },
 "nbformat": 4,
 "nbformat_minor": 2
}
