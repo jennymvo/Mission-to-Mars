{
 "cells": [
  {
   "cell_type": "markdown",
   "metadata": {},
   "source": [
    "# Deliverable 1:\n",
    "Scrape Titles and Preview Text from Mars News "
   ]
  },
  {
   "cell_type": "code",
   "execution_count": 1,
   "metadata": {},
   "outputs": [
    {
     "name": "stderr",
     "output_type": "stream",
     "text": [
      "[WDM] - Downloading: 100%|██████████| 7.72M/7.72M [00:00<00:00, 40.1MB/s]\n"
     ]
    },
    {
     "ename": "TypeError",
     "evalue": "'NoneType' object is not callable",
     "output_type": "error",
     "traceback": [
      "\u001b[0;31m---------------------------------------------------------------------------\u001b[0m",
      "\u001b[0;31mTypeError\u001b[0m                                 Traceback (most recent call last)",
      "Cell \u001b[0;32mIn [1], line 10\u001b[0m\n\u001b[1;32m      8\u001b[0m \u001b[38;5;66;03m# Set the executable path \u001b[39;00m\n\u001b[1;32m      9\u001b[0m executable_path \u001b[38;5;241m=\u001b[39m {\u001b[38;5;124m'\u001b[39m\u001b[38;5;124mexecutable_path\u001b[39m\u001b[38;5;124m'\u001b[39m: ChromeDriverManager()\u001b[38;5;241m.\u001b[39minstall()}\n\u001b[0;32m---> 10\u001b[0m browser \u001b[38;5;241m=\u001b[39m \u001b[43mBrowser\u001b[49m\u001b[43m(\u001b[49m\u001b[38;5;124;43m'\u001b[39;49m\u001b[38;5;124;43mchrome\u001b[39;49m\u001b[38;5;124;43m'\u001b[39;49m\u001b[43m,\u001b[49m\u001b[43m \u001b[49m\u001b[38;5;241;43m*\u001b[39;49m\u001b[38;5;241;43m*\u001b[39;49m\u001b[43mexecutable_path\u001b[49m\u001b[43m,\u001b[49m\u001b[43m \u001b[49m\u001b[43mheadless\u001b[49m\u001b[38;5;241;43m=\u001b[39;49m\u001b[38;5;28;43;01mFalse\u001b[39;49;00m\u001b[43m)\u001b[49m\n\u001b[1;32m     12\u001b[0m \u001b[38;5;66;03m# Visit the Mars News site\u001b[39;00m\n\u001b[1;32m     13\u001b[0m url \u001b[38;5;241m=\u001b[39m \u001b[38;5;124m'\u001b[39m\u001b[38;5;124mhttps://redplanetscience.com\u001b[39m\u001b[38;5;124m'\u001b[39m\n",
      "File \u001b[0;32m~/anaconda3/envs/bootcamp/lib/python3.10/site-packages/splinter/browser.py:121\u001b[0m, in \u001b[0;36mBrowser\u001b[0;34m(driver_name, retry_count, *args, **kwargs)\u001b[0m\n\u001b[1;32m    118\u001b[0m \u001b[39mexcept\u001b[39;00m \u001b[39mKeyError\u001b[39;00m:\n\u001b[1;32m    119\u001b[0m     \u001b[39mraise\u001b[39;00m DriverNotFoundError(\u001b[39m\"\u001b[39m\u001b[39mNo driver for \u001b[39m\u001b[39m%s\u001b[39;00m\u001b[39m\"\u001b[39m \u001b[39m%\u001b[39m driver_name)\n\u001b[0;32m--> 121\u001b[0m \u001b[39mreturn\u001b[39;00m get_driver(driver, retry_count\u001b[39m=\u001b[39;49mretry_count, \u001b[39m*\u001b[39;49margs, \u001b[39m*\u001b[39;49m\u001b[39m*\u001b[39;49mkwargs)\n",
      "File \u001b[0;32m~/anaconda3/envs/bootcamp/lib/python3.10/site-packages/splinter/browser.py:92\u001b[0m, in \u001b[0;36mget_driver\u001b[0;34m(driver, retry_count, *args, **kwargs)\u001b[0m\n\u001b[1;32m     90\u001b[0m \u001b[39mfor\u001b[39;00m _ \u001b[39min\u001b[39;00m \u001b[39mrange\u001b[39m(retry_count):\n\u001b[1;32m     91\u001b[0m     \u001b[39mtry\u001b[39;00m:\n\u001b[0;32m---> 92\u001b[0m         \u001b[39mreturn\u001b[39;00m driver(\u001b[39m*\u001b[39;49margs, \u001b[39m*\u001b[39;49m\u001b[39m*\u001b[39;49mkwargs)\n\u001b[1;32m     93\u001b[0m     \u001b[39mexcept\u001b[39;00m driver_exceptions \u001b[39mas\u001b[39;00m e:\n\u001b[1;32m     94\u001b[0m         err \u001b[39m=\u001b[39m e\n",
      "\u001b[0;31mTypeError\u001b[0m: 'NoneType' object is not callable"
     ]
    }
   ],
   "source": [
    "'''Scrape the Mars News website by using Splinter and Beautiful Soup.'''\n",
    "\n",
    "# Import Splinter and BeautifulSoup\n",
    "from splinter import Browser\n",
    "from bs4 import BeautifulSoup as soup\n",
    "from webdriver_manager.chrome import ChromeDriverManager\n",
    "\n",
    "# Set the executable path \n",
    "executable_path = {'executable_path': ChromeDriverManager().install()}\n",
    "browser = Browser('chrome', **executable_path, headless=False)\n",
    "\n",
    "# Visit the Mars News site\n",
    "url = 'https://redplanetscience.com'\n",
    "browser.visit(url)\n",
    "\n",
    "html = browser.html\n",
    "html_soup = soup(html, 'html.parser')"
   ]
  },
  {
   "cell_type": "code",
   "execution_count": null,
   "metadata": {},
   "outputs": [
    {
     "name": "stdout",
     "output_type": "stream",
     "text": [
      "[{'title': 'Independent Review Indicates NASA Prepared for Mars Sample Return Campaign', 'summary': 'NASA released an independent review report Tuesday indicating the agency is well positioned for its Mars Sample Return campaign to bring pristine samples from Mars to Earth for scientific study.'}, {'title': 'MAVEN Maps Electric Currents around Mars that are Fundamental to Atmospheric Loss', 'summary': 'Five years after NASA’s MAVEN spacecraft entered into orbit around Mars, data from the mission has led to the creation of a map of electric current systems in the Martian atmosphere.'}, {'title': 'NASA to Broadcast Mars 2020 Perseverance Launch, Prelaunch Activities', 'summary': 'Starting July 27, news activities will cover everything from mission engineering and science to returning samples from Mars to, of course, the launch itself.'}, {'title': \"NASA's MAVEN Explores Mars to Understand Radio Interference at Earth\", 'summary': 'NASA’s MAVEN spacecraft has discovered “layers” and “rifts” in the electrically charged part of the upper atmosphere of Mars.'}, {'title': 'Two of a Space Kind: Apollo 12 and Mars 2020', 'summary': 'Apollo 12 and the upcoming Mars 2020 mission may be separated by half a century, but they share several goals unique in the annals of space exploration.'}, {'title': 'New Selfie Shows Curiosity, the Mars Chemist', 'summary': 'The NASA rover performed a special chemistry experiment at the location captured in its newest self-portrait.'}, {'title': 'NASA to Reveal Name of Its Next Mars Rover', 'summary': \"After a months-long contest among students to name NASA's newest Mars rover, the agency will reveal the winning name — and the winning student — this Thursday. \"}, {'title': \"All About the Laser (and Microphone) Atop Mars 2020, NASA's Next Rover\", 'summary': 'SuperCam is a rock-vaporizing instrument that will help scientists hunt for Mars fossils.'}, {'title': \"NASA's Mars 2020 Rover Tests Descent-Stage Separation\", 'summary': \"A crane lifts the rocket-powered descent stage away from NASA's Mars 2020 rover after technicians tested the pyrotechnic charges that separate the two spacecraft.\"}, {'title': \"NASA's Mars Perseverance Rover Passes Flight Readiness Review\", 'summary': \"\\u200bThe agency's Mars 2020 mission has one more big prelaunch review – the Launch Readiness Review, on July 27.\"}, {'title': \"NASA's InSight Flexes Its Arm While Its 'Mole' Hits Pause\", 'summary': \"Now that the lander's robotic arm has helped the mole get underground, it will resume science activities that have been on hold.\"}, {'title': \"NASA's Perseverance Rover Bringing 3D-Printed Metal Parts to Mars\", 'summary': \"For hobbyists and makers, 3D printing expands creative possibilities; for specialized engineers, it's also key to next-generation spacecraft design.\"}, {'title': \"NASA's Perseverance Rover Goes Through Trials by Fire, Ice, Light and Sound\", 'summary': \"The agency's new Mars rover is put through a series of tests in vacuum chambers, acoustic chambers and more to get ready for the Red Planet.\"}, {'title': \"The Detective Aboard NASA's Perseverance Rover\", 'summary': 'An instrument called SHERLOC will, with the help of its partner WATSON, hunt for signs of ancient life by detecting organic molecules and minerals.'}, {'title': \"5 Hidden Gems Are Riding Aboard NASA's Perseverance Rover\", 'summary': \"The symbols, mottos, and small objects added to the agency's newest Mars rover serve a variety of purposes, from functional to decorative.\"}]\n"
     ]
    },
    {
     "data": {
      "text/plain": [
       "'\\n# Create dictionary with the title as key and summary as value from the lists\\n\\nzipLists = zip(title_list, summary_list)\\narticleDict = dict(zipLists)\\n\\n#articleDictItems = articleDict.items()\\n\\n# Split the dictionary to list of dictionaries \\nlistDict = [{k: v} for k, v in articleDict.items()]\\n\\nnew_dict = {}\\nfor key, value in articleDict.items():\\n    new_dict[value] = key\\n\\nnew_dict\\n'"
      ]
     },
     "execution_count": 30,
     "metadata": {},
     "output_type": "execute_result"
    }
   ],
   "source": [
    "results = html_soup.find_all(class_ = 'image_and_description_container')\n",
    "\n",
    "# Set empty lists to hold data\n",
    "title_list = []\n",
    "summary_list = []\n",
    "listDictionaries = []\n",
    "\n",
    "# write for loop to find title and summary from class_\n",
    "for result in results:\n",
    "    title = result.find_all('div', class_='content_title')\n",
    "    summary = result.find_all('div', class_='article_teaser_body')\n",
    "    if title:\n",
    "        for span in title:\n",
    "            title_list.append(span.text) # append titles to title_list\n",
    "    if summary:\n",
    "        for span in summary:\n",
    "            summary_list.append(span.text) # append summary to summary_list\n",
    "\n",
    "for title, summary in zip(title_list, summary_list): # combine the title and summary list together into a list of dictinaries \n",
    "    listDictionaries.append({'title': title, 'summary': summary}) # append the title and summary elements from each list into the new list with the same keys in each dictionary\n",
    "\n",
    "print(listDictionaries)\n"
   ]
  },
  {
   "cell_type": "code",
   "execution_count": null,
   "metadata": {},
   "outputs": [],
   "source": [
    "#browser.quit()"
   ]
  }
 ],
 "metadata": {
  "kernelspec": {
   "display_name": "Python 3.10.6 ('bootcamp')",
   "language": "python",
   "name": "python3"
  },
  "language_info": {
   "codemirror_mode": {
    "name": "ipython",
    "version": 3
   },
   "file_extension": ".py",
   "mimetype": "text/x-python",
   "name": "python",
   "nbconvert_exporter": "python",
   "pygments_lexer": "ipython3",
   "version": "3.10.6"
  },
  "orig_nbformat": 4,
  "vscode": {
   "interpreter": {
    "hash": "54ddf2d9b8705bf0bf26d239972ecafbd5e9bbf9ca7b32bab6261904728b68a5"
   }
  }
 },
 "nbformat": 4,
 "nbformat_minor": 2
}
