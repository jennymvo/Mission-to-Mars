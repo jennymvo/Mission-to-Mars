{
 "cells": [
  {
   "cell_type": "markdown",
   "metadata": {},
   "source": [
    "# Deliverable 2\n",
    "\n",
    "Scrape and Analyze Mars Weather Data"
   ]
  },
  {
   "cell_type": "code",
   "execution_count": 1,
   "metadata": {},
   "outputs": [],
   "source": [
    "'''Scrape the Mars News website by using Splinter and Beautiful Soup.'''\n",
    "\n",
    "# Import Splinter and BeautifulSoup\n",
    "from splinter import Browser\n",
    "from bs4 import BeautifulSoup as soup\n",
    "from webdriver_manager.chrome import ChromeDriverManager\n",
    "\n",
    "# Set the executable path \n",
    "executable_path = {'executable_path': ChromeDriverManager().install()}\n",
    "browser = Browser('chrome', **executable_path, headless=False)\n",
    "\n",
    "# Visit the Mars News site\n",
    "url = 'https://data-class-mars-challenge.s3.amazonaws.com/Mars/index.html'\n",
    "browser.visit(url)\n",
    "\n",
    "html = browser.html\n",
    "html_soup = soup(html, 'html.parser')"
   ]
  },
  {
   "cell_type": "code",
   "execution_count": 4,
   "metadata": {},
   "outputs": [],
   "source": [
    "# find the table\n",
    "table = html_soup.find('table', class_='table')"
   ]
  },
  {
   "cell_type": "code",
   "execution_count": 7,
   "metadata": {},
   "outputs": [
    {
     "name": "stdout",
     "output_type": "stream",
     "text": [
      "{<th>id</th>: None, None: <td>1895</td>}\n"
     ]
    }
   ],
   "source": [
    "# Store the table in a python data structure \n",
    "mars_facts = {} # initialize empty dictionary to hold table data \n",
    "rows = table.find_all('tr') # find all the table rows tr and save to row variable\n",
    "for row in rows: \n",
    "    row_heading = row.find('th') # table's header th get saved to the row_heading variable \n",
    "    row_data = row.find('td') # extract table data td. Strip for white space removal. Save to row_data\n",
    "    mars_facts[row_heading] = row_data # row becomes entry to mars_facts dictionary. Table heading is key, table data is value. \n",
    "\n",
    "print(mars_facts)"
   ]
  }
 ],
 "metadata": {
  "kernelspec": {
   "display_name": "Python 3.10.6 ('bootcamp')",
   "language": "python",
   "name": "python3"
  },
  "language_info": {
   "codemirror_mode": {
    "name": "ipython",
    "version": 3
   },
   "file_extension": ".py",
   "mimetype": "text/x-python",
   "name": "python",
   "nbconvert_exporter": "python",
   "pygments_lexer": "ipython3",
   "version": "3.10.6"
  },
  "orig_nbformat": 4,
  "vscode": {
   "interpreter": {
    "hash": "54ddf2d9b8705bf0bf26d239972ecafbd5e9bbf9ca7b32bab6261904728b68a5"
   }
  }
 },
 "nbformat": 4,
 "nbformat_minor": 2
}
