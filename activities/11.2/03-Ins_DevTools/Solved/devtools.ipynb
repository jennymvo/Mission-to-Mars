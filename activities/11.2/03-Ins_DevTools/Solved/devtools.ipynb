{
 "cells": [
  {
   "cell_type": "code",
   "execution_count": 1,
   "metadata": {},
   "outputs": [],
   "source": [
    "from splinter import Browser\n",
    "from bs4 import BeautifulSoup\n",
    "from webdriver_manager.chrome import ChromeDriverManager"
   ]
  },
  {
   "cell_type": "code",
   "execution_count": 2,
   "metadata": {},
   "outputs": [],
   "source": [
    "# Set up Splinter\n",
    "executable_path = {'executable_path': ChromeDriverManager().install()}\n",
    "browser = Browser('chrome', **executable_path, headless=False)"
   ]
  },
  {
   "cell_type": "code",
   "execution_count": 3,
   "metadata": {},
   "outputs": [],
   "source": [
    "url = \"https://stackoverflow.com/questions/tagged/python?sort=MostVotes&edited=true\""
   ]
  },
  {
   "cell_type": "code",
   "execution_count": 4,
   "metadata": {},
   "outputs": [],
   "source": [
    "browser.visit(url)"
   ]
  },
  {
   "cell_type": "code",
   "execution_count": 5,
   "metadata": {},
   "outputs": [],
   "source": [
    "html = browser.html"
   ]
  },
  {
   "cell_type": "code",
   "execution_count": 6,
   "metadata": {},
   "outputs": [],
   "source": [
    "soup = BeautifulSoup(html, 'html.parser')"
   ]
  },
  {
   "cell_type": "code",
   "execution_count": 7,
   "metadata": {},
   "outputs": [
    {
     "data": {
      "text/plain": [
       "'\\nQuestions tagged [python]        '"
      ]
     },
     "execution_count": 7,
     "metadata": {},
     "output_type": "execute_result"
    }
   ],
   "source": [
    "soup.find('h1').text"
   ]
  },
  {
   "cell_type": "code",
   "execution_count": 8,
   "metadata": {},
   "outputs": [
    {
     "data": {
      "text/plain": [
       "'Questions tagged [python]'"
      ]
     },
     "execution_count": 8,
     "metadata": {},
     "output_type": "execute_result"
    }
   ],
   "source": [
    "soup.find('h1').text.strip()"
   ]
  },
  {
   "cell_type": "code",
   "execution_count": 9,
   "metadata": {},
   "outputs": [],
   "source": [
    "questions = soup.find_all('a', class_='question-hyperlink')"
   ]
  },
  {
   "cell_type": "code",
   "execution_count": 10,
   "metadata": {},
   "outputs": [
    {
     "data": {
      "text/plain": [
       "[<a class=\"js-gps-track question-hyperlink mb0\" data-gps-track=\"site.switch({ item_type:9, target_site:557 }); posts_hot_network.click({ item_type:2, location:9 })\" href=\"https://datascience.stackexchange.com/questions/116268/do-fine-tuning-need-to-retrain-the-entire-model\">\n",
       "                     Do fine-tuning need to retrain the entire model?\n",
       "                 </a>,\n",
       " <a class=\"js-gps-track question-hyperlink mb0\" data-gps-track=\"site.switch({ item_type:9, target_site:182 }); posts_hot_network.click({ item_type:2, location:9 })\" href=\"https://dba.stackexchange.com/questions/319773/migrating-existing-tables-to-use-int-primary-key-instead-of-uuid-mysql-v8\">\n",
       "                     Migrating existing tables to use INT primary key instead of UUID mysql v8\n",
       "                 </a>,\n",
       " <a class=\"js-gps-track question-hyperlink mb0\" data-gps-track=\"site.switch({ item_type:9, target_site:502 }); posts_hot_network.click({ item_type:2, location:9 })\" href=\"https://blender.stackexchange.com/questions/279429/how-to-transfer-rotation-information-from-instances-to-a-material\">\n",
       "                     How to transfer rotation information from instances to a material?\n",
       "                 </a>,\n",
       " <a class=\"js-gps-track question-hyperlink mb0\" data-gps-track=\"site.switch({ item_type:9, target_site:579 }); posts_hot_network.click({ item_type:2, location:9 })\" href=\"https://worldbuilding.stackexchange.com/questions/238246/the-abundance-of-which-material-would-provide-the-most-improvement-to-world-econ\">\n",
       "                     The abundance of which material would provide the most improvement to world economy?\n",
       "                 </a>,\n",
       " <a class=\"js-gps-track question-hyperlink mb0\" data-gps-track=\"site.switch({ item_type:9, target_site:304 }); posts_hot_network.click({ item_type:2, location:9 })\" href=\"https://christianity.stackexchange.com/questions/93436/how-does-a-baptist-church-handle-a-believer-who-was-already-baptized-as-an-infan\">\n",
       "                     How does a Baptist church handle a believer who was already baptized as an infant and confirmed as a youth?\n",
       "                 </a>,\n",
       " <a class=\"js-gps-track question-hyperlink mb0\" data-gps-track=\"site.switch({ item_type:9, target_site:504 }); posts_hot_network.click({ item_type:2, location:9 })\" href=\"https://mathoverflow.net/questions/434718/papers-of-the-masters-in-translated-english-in-one-location\">\n",
       "                     Papers of the masters in translated English in one location\n",
       "                 </a>,\n",
       " <a class=\"js-gps-track question-hyperlink mb0\" data-gps-track=\"site.switch({ item_type:9, target_site:186 }); posts_hot_network.click({ item_type:2, location:9 })\" href=\"https://scifi.stackexchange.com/questions/269547/why-did-cordwainer-smith-name-several-characters-five-six-in-different-languag\">\n",
       "                     Why did Cordwainer Smith name several characters \"five-six\" in different languages?\n",
       "                 </a>,\n",
       " <a class=\"js-gps-track question-hyperlink mb0\" data-gps-track=\"site.switch({ item_type:9, target_site:617 }); posts_hot_network.click({ item_type:2, location:9 })\" href=\"https://law.stackexchange.com/questions/86305/can-a-trans-man-get-an-abortion-in-texas-where-a-woman-cant\">\n",
       "                     Can a trans man get an abortion in Texas where a woman can't?\n",
       "                 </a>,\n",
       " <a class=\"js-gps-track question-hyperlink mb0\" data-gps-track=\"site.switch({ item_type:9, target_site:97 }); posts_hot_network.click({ item_type:2, location:9 })\" href=\"https://english.stackexchange.com/questions/598558/is-there-an-english-word-for-kundenbek%c3%a4mpfung-customer-combatting\">\n",
       "                     Is there an English word for \"Kundenbekämpfung\" (customer combatting)\n",
       "                 </a>,\n",
       " <a class=\"js-gps-track question-hyperlink mb0\" data-gps-track=\"site.switch({ item_type:9, target_site:186 }); posts_hot_network.click({ item_type:2, location:9 })\" href=\"https://scifi.stackexchange.com/questions/269523/why-do-people-die-in-real-life-in-the-matrix-from-digital-trauma\">\n",
       "                     Why do people die in real life in the Matrix from digital trauma?\n",
       "                 </a>,\n",
       " <a class=\"js-gps-track question-hyperlink mb0\" data-gps-track=\"site.switch({ item_type:9, target_site:363 }); posts_hot_network.click({ item_type:2, location:9 })\" href=\"https://scicomp.stackexchange.com/questions/42167/how-does-a-blocking-mpi-all-to-all-synchronization-work\">\n",
       "                     How does a blocking MPI all to all synchronization work?\n",
       "                 </a>,\n",
       " <a class=\"js-gps-track question-hyperlink mb0\" data-gps-track=\"site.switch({ item_type:9, target_site:579 }); posts_hot_network.click({ item_type:2, location:9 })\" href=\"https://worldbuilding.stackexchange.com/questions/238183/how-difficult-would-it-be-to-reverse-engineer-a-device-whose-function-is-based-o\">\n",
       "                     How difficult would it be to reverse engineer a device whose function is based on unknown physics?\n",
       "                 </a>,\n",
       " <a class=\"js-gps-track question-hyperlink mb0\" data-gps-track=\"site.switch({ item_type:9, target_site:93 }); posts_hot_network.click({ item_type:2, location:9 })\" href=\"https://money.stackexchange.com/questions/153678/can-i-notify-a-card-holder-or-their-bank-that-their-card-is-being-used-fraudulen\">\n",
       "                     Can I notify a card-holder or their bank that their card is being used fraudulently?\n",
       "                 </a>,\n",
       " <a class=\"js-gps-track question-hyperlink mb0\" data-gps-track=\"site.switch({ item_type:9, target_site:559 }); posts_hot_network.click({ item_type:2, location:9 })\" href=\"https://puzzling.stackexchange.com/questions/118757/find-the-carpets\">\n",
       "                     Find the carpets\n",
       "                 </a>,\n",
       " <a class=\"js-gps-track question-hyperlink mb0\" data-gps-track=\"site.switch({ item_type:9, target_site:415 }); posts_hot_network.click({ item_type:2, location:9 })\" href=\"https://academia.stackexchange.com/questions/190620/cumulative-thesis-dissertation\">\n",
       "                     Cumulative Thesis/Dissertation\n",
       "                 </a>,\n",
       " <a class=\"js-gps-track question-hyperlink mb0\" data-gps-track=\"site.switch({ item_type:9, target_site:508 }); posts_hot_network.click({ item_type:2, location:9 })\" href=\"https://space.stackexchange.com/questions/60958/why-is-the-new-artemis-suit-orange\">\n",
       "                     Why is the new Artemis suit orange?\n",
       "                 </a>,\n",
       " <a class=\"js-gps-track question-hyperlink mb0\" data-gps-track=\"site.switch({ item_type:9, target_site:200 }); posts_hot_network.click({ item_type:2, location:9 })\" href=\"https://codegolf.stackexchange.com/questions/254625/lengthy-numbers-type-a-remove-all-occurrences-of-length\">\n",
       "                     Lengthy numbers type A : remove all occurrences of length\n",
       "                 </a>,\n",
       " <a class=\"js-gps-track question-hyperlink mb0\" data-gps-track=\"site.switch({ item_type:9, target_site:93 }); posts_hot_network.click({ item_type:2, location:9 })\" href=\"https://money.stackexchange.com/questions/153659/is-it-possible-to-pay-the-remaining-monthly-payments-of-a-mortgage-instead-of-ca\">\n",
       "                     Is it possible to pay the remaining monthly payments of a mortgage instead of cancelling the mortgage and paying the early repayment fee?\n",
       "                 </a>,\n",
       " <a class=\"js-gps-track question-hyperlink mb0\" data-gps-track=\"site.switch({ item_type:9, target_site:97 }); posts_hot_network.click({ item_type:2, location:9 })\" href=\"https://english.stackexchange.com/questions/598466/what-is-an-idiom-about-a-stubborn-person-opinion-that-uses-the-word-die\">\n",
       "                     What is an idiom about a stubborn person/opinion that uses the word \"die\"?\n",
       "                 </a>,\n",
       " <a class=\"js-gps-track question-hyperlink mb0\" data-gps-track=\"site.switch({ item_type:9, target_site:122 }); posts_hot_network.click({ item_type:2, location:9 })\" href=\"https://rpg.stackexchange.com/questions/202823/whats-the-raw-most-efficient-way-to-mine-for-diamonds\">\n",
       "                     What's the RAW most efficient way to mine for diamonds?\n",
       "                 </a>,\n",
       " <a class=\"js-gps-track question-hyperlink mb0\" data-gps-track=\"site.switch({ item_type:9, target_site:475 }); posts_hot_network.click({ item_type:2, location:9 })\" href=\"https://politics.stackexchange.com/questions/76697/why-did-the-bahamas-vote-against-the-un-resolution-for-ukraine-reparations\">\n",
       "                     Why did The Bahamas vote against the UN resolution for Ukraine reparations?\n",
       "                 </a>,\n",
       " <a class=\"js-gps-track question-hyperlink mb0\" data-gps-track=\"site.switch({ item_type:9, target_site:387 }); posts_hot_network.click({ item_type:2, location:9 })\" href=\"https://mathematica.stackexchange.com/questions/276166/does-mathematica-have-an-equivalent-to-the-python-translate-function\">\n",
       "                     Does Mathematica have an equivalent to the Python 'translate' function?\n",
       "                 </a>,\n",
       " <a class=\"js-gps-track question-hyperlink mb0\" data-gps-track=\"site.switch({ item_type:9, target_site:415 }); posts_hot_network.click({ item_type:2, location:9 })\" href=\"https://academia.stackexchange.com/questions/190672/pi-asked-me-to-remove-a-student-from-authors-list-but-i-disagree\">\n",
       "                     PI asked me to remove a student from author's list, but I disagree\n",
       "                 </a>,\n",
       " <a class=\"js-gps-track question-hyperlink mb0\" data-gps-track=\"site.switch({ item_type:9, target_site:415 }); posts_hot_network.click({ item_type:2, location:9 })\" href=\"https://academia.stackexchange.com/questions/190635/humor-in-a-personal-statement\">\n",
       "                     Humor in a personal statement\n",
       "                 </a>]"
      ]
     },
     "execution_count": 10,
     "metadata": {},
     "output_type": "execute_result"
    }
   ],
   "source": [
    "questions"
   ]
  },
  {
   "cell_type": "code",
   "execution_count": 11,
   "metadata": {},
   "outputs": [
    {
     "data": {
      "text/plain": [
       "'https://datascience.stackexchange.com/questions/116268/do-fine-tuning-need-to-retrain-the-entire-model'"
      ]
     },
     "execution_count": 11,
     "metadata": {},
     "output_type": "execute_result"
    }
   ],
   "source": [
    "questions[0]['href']"
   ]
  },
  {
   "cell_type": "code",
   "execution_count": 12,
   "metadata": {},
   "outputs": [
    {
     "data": {
      "text/plain": [
       "'\\n                    Do fine-tuning need to retrain the entire model?\\n                '"
      ]
     },
     "execution_count": 12,
     "metadata": {},
     "output_type": "execute_result"
    }
   ],
   "source": [
    "questions[0].text"
   ]
  },
  {
   "cell_type": "code",
   "execution_count": 13,
   "metadata": {},
   "outputs": [],
   "source": [
    "browser.quit()"
   ]
  }
 ],
 "metadata": {
  "kernelspec": {
   "display_name": "Python 3.10.4 ('bootcamp')",
   "language": "python",
   "name": "python3"
  },
  "language_info": {
   "codemirror_mode": {
    "name": "ipython",
    "version": 3
   },
   "file_extension": ".py",
   "mimetype": "text/x-python",
   "name": "python",
   "nbconvert_exporter": "python",
   "pygments_lexer": "ipython3",
   "version": "3.10.4"
  },
  "vscode": {
   "interpreter": {
    "hash": "feaa725b70d99fd8b5fd94e44413987ac58147e3b9eacd81281fd814ac40f096"
   }
  }
 },
 "nbformat": 4,
 "nbformat_minor": 4
}
