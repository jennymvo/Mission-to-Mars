{
 "cells": [
  {
   "cell_type": "code",
   "execution_count": 1,
   "metadata": {},
   "outputs": [
    {
     "name": "stderr",
     "output_type": "stream",
     "text": [
      "[WDM] - Current google-chrome version is 96.0.4664\n",
      "[WDM] - Get LATEST driver version for 96.0.4664\n",
      "[WDM] - Driver [/Users/kulini/.wdm/drivers/chromedriver/mac64/96.0.4664.45/chromedriver] found in cache\n"
     ]
    },
    {
     "name": "stdout",
     "output_type": "stream",
     "text": [
      " \n"
     ]
    }
   ],
   "source": [
    "from splinter import Browser\n",
    "from bs4 import BeautifulSoup\n",
    "from webdriver_manager.chrome import ChromeDriverManager\n",
    "\n",
    "executable_path = {'executable_path': ChromeDriverManager().install()}\n",
    "browser = Browser('chrome', **executable_path, headless=False)"
   ]
  },
  {
   "cell_type": "code",
   "execution_count": 2,
   "metadata": {},
   "outputs": [],
   "source": [
    "url = \"https://stackoverflow.com/questions/tagged/python?sort=MostVotes&edited=true\"\n",
    "browser.visit(url)\n",
    "html = browser.html\n",
    "soup = BeautifulSoup(html, 'html.parser')"
   ]
  },
  {
   "cell_type": "code",
   "execution_count": 3,
   "metadata": {},
   "outputs": [],
   "source": [
    "# Find all divs that contain a question\n",
    "question_divs = soup.find_all('div', class_=\"mln24\")"
   ]
  },
  {
   "cell_type": "code",
   "execution_count": 11,
   "metadata": {},
   "outputs": [],
   "source": [
    "question_list = []"
   ]
  },
  {
   "cell_type": "code",
   "execution_count": 12,
   "metadata": {},
   "outputs": [],
   "source": [
    "for question in question_divs:\n",
    "    summary = question.find(\"a\", class_=\"question-hyperlink\").text\n",
    "    votes = question.find(\"span\", class_=\"vote-count-post\").text\n",
    "    excerpt = question.find(\"div\", class_=\"excerpt\").text.strip()\n",
    "    question_dict = {}\n",
    "    question_dict[\"summary\"] = summary\n",
    "    question_dict[\"votes\"] = votes\n",
    "    question_dict[\"excerpt\"] = excerpt\n",
    "    question_list.append(question_dict)"
   ]
  },
  {
   "cell_type": "code",
   "execution_count": 13,
   "metadata": {},
   "outputs": [
    {
     "data": {
      "text/plain": [
       "[{'summary': 'What does the \"yield\" keyword do?',\n",
       "  'votes': '11692',\n",
       "  'excerpt': \"What is the use of the yield keyword in Python? What does it do?\\nFor example, I'm trying to understand this code1:\\ndef _get_child_candidates(self, distance, min_dist, max_dist):\\n    if self._leftchild ...\"},\n",
       " {'summary': 'What does the \"yield\" keyword do?',\n",
       "  'votes': '11692',\n",
       "  'excerpt': \"What is the use of the yield keyword in Python? What does it do?\\nFor example, I'm trying to understand this code1:\\ndef _get_child_candidates(self, distance, min_dist, max_dist):\\n    if self._leftchild ...\"},\n",
       " {'summary': 'What does if __name__ == \"__main__\": do?',\n",
       "  'votes': '7204',\n",
       "  'excerpt': 'Given the following code, what does the if __name__ == \"__main__\": do?\\n\\n# Threading example\\nimport time, thread\\n\\ndef myfunction(string, sleeptime, lock, *args):\\n    while True:\\n        lock.acquire()\\n ...'},\n",
       " {'summary': 'Does Python have a ternary conditional operator?',\n",
       "  'votes': '7080',\n",
       "  'excerpt': 'If Python does not have a ternary conditional operator, is it possible to simulate one using other language constructs?'},\n",
       " {'summary': 'What are metaclasses in Python?',\n",
       "  'votes': '6497',\n",
       "  'excerpt': 'In Python, what are metaclasses and what do we use them for?'},\n",
       " {'summary': 'How do I check whether a file exists without exceptions?',\n",
       "  'votes': '6453',\n",
       "  'excerpt': 'How do I check whether a file exists or not, without using the try statement?'},\n",
       " {'summary': 'How do I merge two dictionaries in a single expression (take union of dictionaries)?',\n",
       "  'votes': '6036',\n",
       "  'excerpt': 'I have two Python dictionaries, and I want to write a single expression that returns these two dictionaries, merged (i.e. taking the union).  The update() method would be what I need, if it returned ...'},\n",
       " {'summary': 'How to execute a program or call a system command?',\n",
       "  'votes': '5548',\n",
       "  'excerpt': \"How do you call an external command (as if I'd typed it at the Unix shell or Windows command prompt) from within a Python script?\"},\n",
       " {'summary': 'How can I safely create a nested directory in Python?',\n",
       "  'votes': '5024',\n",
       "  'excerpt': 'What is the most elegant way to check if the directory a file is going to be written to exists, and if not, create the directory using Python? Here is what I tried:\\nimport os\\n\\nfile_path = \"/my/...'},\n",
       " {'summary': \"Accessing the index in 'for' loops?\",\n",
       "  'votes': '4463',\n",
       "  'excerpt': \"How do I access the index in a for loop like the following?\\n\\nints = [8, 23, 45, 12, 78]\\nfor i in ints:\\n    print('item #{} = {}'.format(???, i))\\nI want to get this output:\\n\\nitem #1 = 8\\nitem #2 = 23\\n...\"},\n",
       " {'summary': 'How to make a flat list out of a list of lists',\n",
       "  'votes': '4389',\n",
       "  'excerpt': 'Is there a shortcut to make a simple list out of a list of lists in Python?\\nI can do it in a for loop, but is there some cool \"one-liner\"?\\nI tried it with functools.reduce():\\nfrom functools ...'},\n",
       " {'summary': 'Difference between staticmethod and classmethod',\n",
       "  'votes': '4153',\n",
       "  'excerpt': 'What is the difference between a function decorated with @staticmethod and one decorated with @classmethod?'},\n",
       " {'summary': 'Understanding slice notation',\n",
       "  'votes': '4069',\n",
       "  'excerpt': \"I need a good explanation (references are a plus) on Python's slice notation. \\n\\nTo me, this notation needs a bit of picking up. \\n\\nIt looks extremely powerful, but I haven't quite got my head around it....\"},\n",
       " {'summary': 'Finding the index of an item in a list',\n",
       "  'votes': '3877',\n",
       "  'excerpt': 'Given a list [\"foo\", \"bar\", \"baz\"] and an item in the list \"bar\", how do I get its index (1) in Python?'},\n",
       " {'summary': \"Iterating over dictionaries using 'for' loops\",\n",
       "  'votes': '3732',\n",
       "  'excerpt': \"I am a bit puzzled by the following code:\\nd = {'x': 1, 'y': 2, 'z': 3} \\nfor key in d:\\n    print (key, 'corresponds to', d[key])\\n\\nWhat I don't understand is the key portion. How does Python recognize ...\"},\n",
       " {'summary': \"Does Python have a string 'contains' substring method?\",\n",
       "  'votes': '3593',\n",
       "  'excerpt': 'I\\'m looking for a string.contains or string.indexof method in Python.\\n\\nI want to do:\\n\\nif not somestring.contains(\"blah\"):\\n   continue'}]"
      ]
     },
     "execution_count": 13,
     "metadata": {},
     "output_type": "execute_result"
    }
   ],
   "source": [
    "# The first two entries are duplicates\n",
    "question_list"
   ]
  },
  {
   "cell_type": "code",
   "execution_count": 14,
   "metadata": {},
   "outputs": [],
   "source": [
    "# Remove duplicate entry by slicing the first entry out\n",
    "question_list = question_list[1:]"
   ]
  },
  {
   "cell_type": "code",
   "execution_count": 15,
   "metadata": {},
   "outputs": [
    {
     "data": {
      "text/plain": [
       "[{'summary': 'What does the \"yield\" keyword do?',\n",
       "  'votes': '11692',\n",
       "  'excerpt': \"What is the use of the yield keyword in Python? What does it do?\\nFor example, I'm trying to understand this code1:\\ndef _get_child_candidates(self, distance, min_dist, max_dist):\\n    if self._leftchild ...\"},\n",
       " {'summary': 'What does if __name__ == \"__main__\": do?',\n",
       "  'votes': '7204',\n",
       "  'excerpt': 'Given the following code, what does the if __name__ == \"__main__\": do?\\n\\n# Threading example\\nimport time, thread\\n\\ndef myfunction(string, sleeptime, lock, *args):\\n    while True:\\n        lock.acquire()\\n ...'},\n",
       " {'summary': 'Does Python have a ternary conditional operator?',\n",
       "  'votes': '7080',\n",
       "  'excerpt': 'If Python does not have a ternary conditional operator, is it possible to simulate one using other language constructs?'},\n",
       " {'summary': 'What are metaclasses in Python?',\n",
       "  'votes': '6497',\n",
       "  'excerpt': 'In Python, what are metaclasses and what do we use them for?'},\n",
       " {'summary': 'How do I check whether a file exists without exceptions?',\n",
       "  'votes': '6453',\n",
       "  'excerpt': 'How do I check whether a file exists or not, without using the try statement?'},\n",
       " {'summary': 'How do I merge two dictionaries in a single expression (take union of dictionaries)?',\n",
       "  'votes': '6036',\n",
       "  'excerpt': 'I have two Python dictionaries, and I want to write a single expression that returns these two dictionaries, merged (i.e. taking the union).  The update() method would be what I need, if it returned ...'},\n",
       " {'summary': 'How to execute a program or call a system command?',\n",
       "  'votes': '5548',\n",
       "  'excerpt': \"How do you call an external command (as if I'd typed it at the Unix shell or Windows command prompt) from within a Python script?\"},\n",
       " {'summary': 'How can I safely create a nested directory in Python?',\n",
       "  'votes': '5024',\n",
       "  'excerpt': 'What is the most elegant way to check if the directory a file is going to be written to exists, and if not, create the directory using Python? Here is what I tried:\\nimport os\\n\\nfile_path = \"/my/...'},\n",
       " {'summary': \"Accessing the index in 'for' loops?\",\n",
       "  'votes': '4463',\n",
       "  'excerpt': \"How do I access the index in a for loop like the following?\\n\\nints = [8, 23, 45, 12, 78]\\nfor i in ints:\\n    print('item #{} = {}'.format(???, i))\\nI want to get this output:\\n\\nitem #1 = 8\\nitem #2 = 23\\n...\"},\n",
       " {'summary': 'How to make a flat list out of a list of lists',\n",
       "  'votes': '4389',\n",
       "  'excerpt': 'Is there a shortcut to make a simple list out of a list of lists in Python?\\nI can do it in a for loop, but is there some cool \"one-liner\"?\\nI tried it with functools.reduce():\\nfrom functools ...'},\n",
       " {'summary': 'Difference between staticmethod and classmethod',\n",
       "  'votes': '4153',\n",
       "  'excerpt': 'What is the difference between a function decorated with @staticmethod and one decorated with @classmethod?'},\n",
       " {'summary': 'Understanding slice notation',\n",
       "  'votes': '4069',\n",
       "  'excerpt': \"I need a good explanation (references are a plus) on Python's slice notation. \\n\\nTo me, this notation needs a bit of picking up. \\n\\nIt looks extremely powerful, but I haven't quite got my head around it....\"},\n",
       " {'summary': 'Finding the index of an item in a list',\n",
       "  'votes': '3877',\n",
       "  'excerpt': 'Given a list [\"foo\", \"bar\", \"baz\"] and an item in the list \"bar\", how do I get its index (1) in Python?'},\n",
       " {'summary': \"Iterating over dictionaries using 'for' loops\",\n",
       "  'votes': '3732',\n",
       "  'excerpt': \"I am a bit puzzled by the following code:\\nd = {'x': 1, 'y': 2, 'z': 3} \\nfor key in d:\\n    print (key, 'corresponds to', d[key])\\n\\nWhat I don't understand is the key portion. How does Python recognize ...\"},\n",
       " {'summary': \"Does Python have a string 'contains' substring method?\",\n",
       "  'votes': '3593',\n",
       "  'excerpt': 'I\\'m looking for a string.contains or string.indexof method in Python.\\n\\nI want to do:\\n\\nif not somestring.contains(\"blah\"):\\n   continue'}]"
      ]
     },
     "execution_count": 15,
     "metadata": {},
     "output_type": "execute_result"
    }
   ],
   "source": [
    "question_list"
   ]
  },
  {
   "cell_type": "code",
   "execution_count": 16,
   "metadata": {},
   "outputs": [],
   "source": [
    "browser.quit()"
   ]
  },
  {
   "cell_type": "code",
   "execution_count": null,
   "metadata": {},
   "outputs": [],
   "source": []
  }
 ],
 "metadata": {
  "kernelspec": {
   "display_name": "data",
   "language": "python",
   "name": "data"
  },
  "language_info": {
   "codemirror_mode": {
    "name": "ipython",
    "version": 3
   },
   "file_extension": ".py",
   "mimetype": "text/x-python",
   "name": "python",
   "nbconvert_exporter": "python",
   "pygments_lexer": "ipython3",
   "version": "3.7.7"
  }
 },
 "nbformat": 4,
 "nbformat_minor": 4
}
